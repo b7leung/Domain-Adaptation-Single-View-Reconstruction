{
 "cells": [
  {
   "cell_type": "code",
   "execution_count": 1,
   "metadata": {
    "ExecuteTime": {
     "end_time": "2020-03-18T10:42:03.218434Z",
     "start_time": "2020-03-18T10:42:03.094846Z"
    }
   },
   "outputs": [],
   "source": [
    "%load_ext autoreload\n",
    "%autoreload 2"
   ]
  },
  {
   "cell_type": "markdown",
   "metadata": {},
   "source": [
    "# Current Experiment"
   ]
  },
  {
   "cell_type": "code",
   "execution_count": null,
   "metadata": {},
   "outputs": [],
   "source": [
    "# Curr run notes\n",
    "#CORAL\n",
    "# GPU 4, card 8: lam = 0\n",
    "# GPU 4, card 9: lam = 1\n",
    "# GPU 3, card 0: lam = 10\n",
    "# GPU 3, card 1: lam = 100\n",
    "\n",
    "# DANN\n",
    "# GPU 6, card 6: lam = 0.1\n",
    "# GPU 6, card 7: lam = 0.5\n",
    "# GPU 6, card 1: lam = 1"
   ]
  },
  {
   "cell_type": "code",
   "execution_count": 51,
   "metadata": {
    "ExecuteTime": {
     "end_time": "2020-03-20T01:54:15.180028Z",
     "start_time": "2020-03-20T01:54:15.048625Z"
    }
   },
   "outputs": [
    {
     "name": "stdout",
     "output_type": "stream",
     "text": [
      "python runner.py --gpu 1 --batch_size 64 --trial_comment OOWL_DA_CORAL_lam_100 --train_target_dataset OOWL --DA CORAL --coral_lam 100 --epoch 250 --classes aeroplane car display lamp telephone watercraft \n",
      "\n"
     ]
    }
   ],
   "source": [
    "\n",
    "# training CORAL DA\n",
    "\n",
    "cmd = ('python runner.py --gpu 1 --batch_size 64 '\n",
    "       '--trial_comment OOWL_DA_CORAL_lam_100 '\n",
    "       '--train_target_dataset OOWL --DA CORAL --coral_lam 100 '\n",
    "       '--epoch 250 --classes aeroplane car display lamp telephone watercraft ')\n",
    "print(cmd+'\\n')\n",
    "#!{cmd}"
   ]
  },
  {
   "cell_type": "code",
   "execution_count": 91,
   "metadata": {
    "ExecuteTime": {
     "end_time": "2020-03-20T11:25:47.751845Z",
     "start_time": "2020-03-20T11:24:30.419894Z"
    },
    "scrolled": true
   },
   "outputs": [
    {
     "name": "stdout",
     "output_type": "stream",
     "text": [
      "python runner.py --gpu 1 --batch_size 32 --weights ./output/2020_03_19--15_40_22_OOWL_DA_CORAL_lam_0_TRAIN/checkpoints/best-ckpt.pth --trial_comment OOWL_DA_CORAL_lam_0 --test --test_dataset OOWL --save_num -1 --classes aeroplane car display lamp telephone watercraft \n",
      "\n",
      "[INFO] 2020-03-20 04:24:33.931648 Collecting files of Taxonomy[ID=Airplane_Model, Name=Airplane_Model]\n",
      "[INFO] 2020-03-20 04:24:33.932851 Collecting files of Taxonomy[ID=Boat_Model, Name=Boat_Model]\n",
      "[INFO] 2020-03-20 04:24:33.933961 Collecting files of Taxonomy[ID=Car_Model, Name=Car_Model]\n",
      "[INFO] 2020-03-20 04:24:33.935311 Collecting files of Taxonomy[ID=Lamp, Name=Lamp]\n",
      "[INFO] 2020-03-20 04:24:33.936471 Collecting files of Taxonomy[ID=Monitor, Name=Monitor]\n",
      "[INFO] 2020-03-20 04:24:33.937275 Collecting files of Taxonomy[ID=Telephone, Name=Telephone]\n",
      "[INFO] 2020-03-20 04:24:33.938003 Complete collecting files of the dataset. Total files: 24.\n",
      "[INFO] 2020-03-20 04:24:44.561704 Loading weights from ./output/2020_03_19--15_40_22_OOWL_DA_CORAL_lam_0_TRAIN/checkpoints/best-ckpt.pth ...\n",
      "                                                                                \r"
     ]
    }
   ],
   "source": [
    "# testing CORAL DA on OOWL\n",
    "CORAL_trial_names = {\n",
    "    100: \"2020_03_19--18_56_27_OOWL_DA_CORAL_lam_100_TRAIN\",\n",
    "    10: \"2020_03_19--18_54_21_OOWL_DA_CORAL_lam_10_TRAIN\",\n",
    "    1: \"2020_03_19--18_45_14_OOWL_DA_CORAL_lam_1_TRAIN\",\n",
    "    0: \"2020_03_19--15_40_22_OOWL_DA_CORAL_lam_0_TRAIN\",\n",
    "    0.1: \"2020_03_19--04_44_31_OOWL_DA_CORAL_lam_0.1_TRAIN\",\n",
    "    0.01: \"2020_03_19--04_44_23_OOWL_DA_CORAL_lam_0.01_TRAIN\"\n",
    "}\n",
    "for lam in [0]:\n",
    "#for lam in [100,10,1,0.1,0.01,0]:\n",
    "    trial_name = CORAL_trial_names[lam]\n",
    "    weights_path = \"./output/{}/checkpoints/best-ckpt.pth\".format(trial_name)\n",
    "\n",
    "    cmd = ('python runner.py --gpu 1 --batch_size 32 --weights {} '\n",
    "           '--trial_comment OOWL_DA_CORAL_lam_{} '\n",
    "           '--test --test_dataset OOWL --save_num -1 '\n",
    "           '--classes aeroplane car display lamp telephone watercraft ')\n",
    "    cmd = cmd.format(weights_path, lam)\n",
    "    print(cmd+'\\n')\n",
    "    !{cmd}"
   ]
  },
  {
   "cell_type": "code",
   "execution_count": 83,
   "metadata": {
    "ExecuteTime": {
     "end_time": "2020-03-20T04:48:45.851312Z",
     "start_time": "2020-03-20T04:48:45.718567Z"
    }
   },
   "outputs": [
    {
     "name": "stdout",
     "output_type": "stream",
     "text": [
      "python runner.py --gpu 1 --batch_size 64 --trial_comment OOWL_DA_DANN_lam_1 --train_target_dataset OOWL --DA DANN --DANN_lam 1 --epoch 250 --classes aeroplane car display lamp telephone watercraft \n",
      "\n"
     ]
    }
   ],
   "source": [
    "# Training DANN DA\n",
    "lam = 1\n",
    "cmd = ('python runner.py --gpu 1 --batch_size 64 '\n",
    "       '--trial_comment OOWL_DA_DANN_lam_{} '\n",
    "       '--train_target_dataset OOWL --DA DANN --DANN_lam {} '\n",
    "       '--epoch 250 --classes aeroplane car display lamp telephone watercraft ')\n",
    "print(cmd.format(lam,lam)+'\\n')"
   ]
  },
  {
   "cell_type": "code",
   "execution_count": 87,
   "metadata": {
    "ExecuteTime": {
     "end_time": "2020-03-20T11:08:58.062974Z",
     "start_time": "2020-03-20T11:05:16.248388Z"
    }
   },
   "outputs": [
    {
     "name": "stdout",
     "output_type": "stream",
     "text": [
      "python runner.py --gpu 1 --batch_size 32 --weights ./output/2020_03_19--21_46_31_OOWL_DA_DANN_lam_0.1_TRAIN/checkpoints/best-ckpt.pth --trial_comment OOWL_DA_DANN_lam_0.1 --test --test_dataset OOWL --save_num -1 --classes aeroplane car display lamp telephone watercraft \n",
      "\n",
      "[INFO] 2020-03-20 04:05:19.838255 Collecting files of Taxonomy[ID=Airplane_Model, Name=Airplane_Model]\n",
      "[INFO] 2020-03-20 04:05:19.839525 Collecting files of Taxonomy[ID=Boat_Model, Name=Boat_Model]\n",
      "[INFO] 2020-03-20 04:05:19.840604 Collecting files of Taxonomy[ID=Car_Model, Name=Car_Model]\n",
      "[INFO] 2020-03-20 04:05:19.841807 Collecting files of Taxonomy[ID=Lamp, Name=Lamp]\n",
      "[INFO] 2020-03-20 04:05:19.842884 Collecting files of Taxonomy[ID=Monitor, Name=Monitor]\n",
      "[INFO] 2020-03-20 04:05:19.844047 Collecting files of Taxonomy[ID=Telephone, Name=Telephone]\n",
      "[INFO] 2020-03-20 04:05:19.845119 Complete collecting files of the dataset. Total files: 24.\n",
      "[INFO] 2020-03-20 04:05:30.503543 Loading weights from ./output/2020_03_19--21_46_31_OOWL_DA_DANN_lam_0.1_TRAIN/checkpoints/best-ckpt.pth ...\n",
      "python runner.py --gpu 1 --batch_size 32 --weights ./output/2020_03_19--21_48_03_OOWL_DA_DANN_lam_0.5_TRAIN/checkpoints/best-ckpt.pth --trial_comment OOWL_DA_DANN_lam_0.5 --test --test_dataset OOWL --save_num -1 --classes aeroplane car display lamp telephone watercraft \n",
      "\n",
      "[INFO] 2020-03-20 04:06:47.916512 Collecting files of Taxonomy[ID=Airplane_Model, Name=Airplane_Model]\n",
      "[INFO] 2020-03-20 04:06:47.918079 Collecting files of Taxonomy[ID=Boat_Model, Name=Boat_Model]\n",
      "[INFO] 2020-03-20 04:06:47.919536 Collecting files of Taxonomy[ID=Car_Model, Name=Car_Model]\n",
      "[INFO] 2020-03-20 04:06:47.920475 Collecting files of Taxonomy[ID=Lamp, Name=Lamp]\n",
      "[INFO] 2020-03-20 04:06:47.921422 Collecting files of Taxonomy[ID=Monitor, Name=Monitor]\n",
      "[INFO] 2020-03-20 04:06:47.922197 Collecting files of Taxonomy[ID=Telephone, Name=Telephone]\n",
      "[INFO] 2020-03-20 04:06:47.922366 Complete collecting files of the dataset. Total files: 24.\n",
      "[INFO] 2020-03-20 04:06:58.090514 Loading weights from ./output/2020_03_19--21_48_03_OOWL_DA_DANN_lam_0.5_TRAIN/checkpoints/best-ckpt.pth ...\n",
      "python runner.py --gpu 1 --batch_size 32 --weights ./output/2020_03_19--21_49_02_OOWL_DA_DANN_lam_1_TRAIN/checkpoints/best-ckpt.pth --trial_comment OOWL_DA_DANN_lam_1 --test --test_dataset OOWL --save_num -1 --classes aeroplane car display lamp telephone watercraft \n",
      "\n",
      "[INFO] 2020-03-20 04:07:42.922952 Collecting files of Taxonomy[ID=Airplane_Model, Name=Airplane_Model]\n",
      "[INFO] 2020-03-20 04:07:42.923760 Collecting files of Taxonomy[ID=Boat_Model, Name=Boat_Model]\n",
      "[INFO] 2020-03-20 04:07:42.924382 Collecting files of Taxonomy[ID=Car_Model, Name=Car_Model]\n",
      "[INFO] 2020-03-20 04:07:42.925022 Collecting files of Taxonomy[ID=Lamp, Name=Lamp]\n",
      "[INFO] 2020-03-20 04:07:42.925404 Collecting files of Taxonomy[ID=Monitor, Name=Monitor]\n",
      "[INFO] 2020-03-20 04:07:42.925503 Collecting files of Taxonomy[ID=Telephone, Name=Telephone]\n",
      "[INFO] 2020-03-20 04:07:42.925581 Complete collecting files of the dataset. Total files: 24.\n",
      "[INFO] 2020-03-20 04:07:52.889505 Loading weights from ./output/2020_03_19--21_49_02_OOWL_DA_DANN_lam_1_TRAIN/checkpoints/best-ckpt.pth ...\n",
      "                                                                                \r"
     ]
    }
   ],
   "source": [
    "# testing DANN on OOWL\n",
    "DANN_trial_names = {\n",
    "    1: \"2020_03_19--21_49_02_OOWL_DA_DANN_lam_1_TRAIN\",\n",
    "    0.5: \"2020_03_19--21_48_03_OOWL_DA_DANN_lam_0.5_TRAIN\",\n",
    "    0.1: \"2020_03_19--21_46_31_OOWL_DA_DANN_lam_0.1_TRAIN\",\n",
    "}\n",
    "\n",
    "for lam in [0.1,0.5,1]:\n",
    "    trial_name = DANN_trial_names[lam]\n",
    "    weights_path = \"./output/{}/checkpoints/best-ckpt.pth\".format(trial_name)\n",
    "\n",
    "    cmd = ('python runner.py --gpu 1 --batch_size 32 --weights {} '\n",
    "           '--trial_comment OOWL_DA_DANN_lam_{} '\n",
    "           '--test --test_dataset OOWL --save_num -1 '\n",
    "           '--classes aeroplane car display lamp telephone watercraft ')\n",
    "    cmd = cmd.format(weights_path, lam)\n",
    "    print(cmd+'\\n')\n",
    "    !{cmd} "
   ]
  },
  {
   "cell_type": "code",
   "execution_count": 86,
   "metadata": {
    "ExecuteTime": {
     "end_time": "2020-03-20T10:45:29.436639Z",
     "start_time": "2020-03-20T10:45:29.258623Z"
    }
   },
   "outputs": [
    {
     "name": "stdout",
     "output_type": "stream",
     "text": [
      "python runner.py --gpu 4 --batch_size 32 --weights ./output/author_saved_params/Pix2Vox-A-ShapeNet.pth --verbose --trial_comment OOWL_VoxelCls --train_target_dataset OOWL --DA VoxelCls --epoch 250 --classes aeroplane car display lamp telephone watercraft \n",
      "\n"
     ]
    }
   ],
   "source": [
    "# training voxel classification\n",
    "weights_path = \"./output/author_saved_params/Pix2Vox-A-ShapeNet.pth\"\n",
    "cmd = ('python runner.py --gpu 4 --batch_size 32 --weights {} --verbose '\n",
    "       '--trial_comment OOWL_VoxelCls '\n",
    "       '--train_target_dataset OOWL --DA VoxelCls '\n",
    "       '--epoch 250 --classes aeroplane car display lamp telephone watercraft ')\n",
    "\n",
    "cmd = cmd.format(weights_path)\n",
    "print(cmd+'\\n')"
   ]
  },
  {
   "cell_type": "code",
   "execution_count": null,
   "metadata": {},
   "outputs": [],
   "source": []
  },
  {
   "cell_type": "markdown",
   "metadata": {},
   "source": [
    "# Past Test Configs"
   ]
  },
  {
   "cell_type": "code",
   "execution_count": 9,
   "metadata": {
    "ExecuteTime": {
     "end_time": "2020-03-18T11:33:03.207301Z",
     "start_time": "2020-03-18T11:33:03.085940Z"
    }
   },
   "outputs": [
    {
     "name": "stdout",
     "output_type": "stream",
     "text": [
      "python runner.py --gpu 1 --trial_comment shapenet_from_scratch --epoch 250 \n",
      "\n"
     ]
    }
   ],
   "source": [
    "# testing training from scratch\n",
    "\n",
    "cmd = ('python runner.py --gpu 1 '\n",
    "       '--trial_comment shapenet_from_scratch '\n",
    "       '--epoch 250 ')\n",
    "print(cmd+'\\n')\n",
    "#!{cmd}"
   ]
  },
  {
   "cell_type": "code",
   "execution_count": 28,
   "metadata": {
    "ExecuteTime": {
     "end_time": "2020-03-19T11:25:29.286966Z",
     "start_time": "2020-03-19T11:25:29.161182Z"
    }
   },
   "outputs": [
    {
     "name": "stdout",
     "output_type": "stream",
     "text": [
      "python runner.py --gpu 1 --weights ./output/2020_03_18--04_45_29_shapenet_from_scratch_TRAIN/checkpoints/best-ckpt.pth --trial_comment shapenet_from_scratch --test\n",
      "\n"
     ]
    }
   ],
   "source": [
    "# testing test from scratch\n",
    "trial_name =\"2020_03_18--04_45_29_shapenet_from_scratch_TRAIN\"\n",
    "weights_path = \"./output/{}/checkpoints/best-ckpt.pth\".format(trial_name)\n",
    "\n",
    "cmd = ('python runner.py --gpu 1 --weights {} '\n",
    "       '--trial_comment shapenet_from_scratch '\n",
    "       '--test')\n",
    "\n",
    "cmd = cmd.format(weights_path)\n",
    "print(cmd+'\\n')"
   ]
  },
  {
   "cell_type": "code",
   "execution_count": 3,
   "metadata": {
    "ExecuteTime": {
     "end_time": "2020-03-18T07:01:03.864223Z",
     "start_time": "2020-03-18T07:01:03.857426Z"
    }
   },
   "outputs": [
    {
     "name": "stdout",
     "output_type": "stream",
     "text": [
      "python runner.py --gpu 7 --weights ./output/2020_03_03--19_54_23_train_on_places_full/checkpoints/best-ckpt.pth --trial_comment test_just_mean --test --test_dataset ShapeNet --save_num 0 --num_views 1 --mean_features_weight 1\n"
     ]
    }
   ],
   "source": [
    "trial_name =\"2020_03_03--19_54_23_train_on_places_full\"\n",
    "weights_path = \"./output/{}/checkpoints/best-ckpt.pth\".format(trial_name)\n",
    "\n",
    "cmd = ('python runner.py --gpu 7 --weights {} '\n",
    "       '--trial_comment test_just_mean '\n",
    "       '--test --test_dataset ShapeNet --save_num 0 '\n",
    "       '--num_views 1 --mean_features_weight 1')\n",
    "\n",
    "cmd = cmd.format(weights_path)\n",
    "print(cmd)\n",
    "#!{cmd}a"
   ]
  },
  {
   "cell_type": "code",
   "execution_count": null,
   "metadata": {},
   "outputs": [],
   "source": []
  },
  {
   "cell_type": "code",
   "execution_count": 14,
   "metadata": {
    "ExecuteTime": {
     "end_time": "2020-03-19T07:13:07.276957Z",
     "start_time": "2020-03-19T07:13:07.111436Z"
    }
   },
   "outputs": [
    {
     "data": {
      "text/plain": [
       "False"
      ]
     },
     "execution_count": 14,
     "metadata": {},
     "output_type": "execute_result"
    }
   ],
   "source": [
    "\"\" == None"
   ]
  },
  {
   "cell_type": "code",
   "execution_count": 55,
   "metadata": {
    "ExecuteTime": {
     "end_time": "2020-03-20T04:08:31.491574Z",
     "start_time": "2020-03-20T04:08:31.470709Z"
    }
   },
   "outputs": [],
   "source": [
    "d = {'EDLoss': 16.482019424438477, 'RLoss': 14.761687278747559, 'DomainDisLoss': 0.693098783493042, 'Epoch': 0, 'Minibatch': 0}"
   ]
  },
  {
   "cell_type": "code",
   "execution_count": 76,
   "metadata": {
    "ExecuteTime": {
     "end_time": "2020-03-20T04:15:57.042527Z",
     "start_time": "2020-03-20T04:15:57.022229Z"
    }
   },
   "outputs": [],
   "source": [
    "def record2string(record_entry):\n",
    "    \n",
    "    s = \"Epoch: {} Minibatch: {} ///// \".format(record_entry[\"Epoch\"], record_entry[\"Minibatch\"])\n",
    "    for key in record_entry:\n",
    "        if key not in [\"Epoch\", \"Minibatch\"]:\n",
    "            s = s + \"{}: {:.3f} \".format(key, record_entry[key])\n",
    "    return s"
   ]
  },
  {
   "cell_type": "code",
   "execution_count": 77,
   "metadata": {
    "ExecuteTime": {
     "end_time": "2020-03-20T04:15:57.743734Z",
     "start_time": "2020-03-20T04:15:57.723673Z"
    }
   },
   "outputs": [
    {
     "name": "stdout",
     "output_type": "stream",
     "text": [
      "Epoch: 0 Minibatch: 0 ///// EDLoss: 16.482 RLoss: 14.762 DomainDisLoss: 0.693 \n"
     ]
    }
   ],
   "source": [
    "print(record2string(d))"
   ]
  },
  {
   "cell_type": "code",
   "execution_count": 75,
   "metadata": {
    "ExecuteTime": {
     "end_time": "2020-03-20T04:15:37.272205Z",
     "start_time": "2020-03-20T04:15:37.253718Z"
    }
   },
   "outputs": [
    {
     "name": "stdout",
     "output_type": "stream",
     "text": [
      "Epoch: 0 Minibatch: 0 ///// EDLoss: 16.48 RLoss: 14.76 DomainDisLoss: 0.6931 \n"
     ]
    }
   ],
   "source": [
    "\n",
    "print(record2string(d))"
   ]
  },
  {
   "cell_type": "code",
   "execution_count": null,
   "metadata": {},
   "outputs": [],
   "source": []
  }
 ],
 "metadata": {
  "kernelspec": {
   "display_name": "Python 3",
   "language": "python",
   "name": "python3"
  },
  "language_info": {
   "codemirror_mode": {
    "name": "ipython",
    "version": 3
   },
   "file_extension": ".py",
   "mimetype": "text/x-python",
   "name": "python",
   "nbconvert_exporter": "python",
   "pygments_lexer": "ipython3",
   "version": "3.7.6"
  }
 },
 "nbformat": 4,
 "nbformat_minor": 4
}
