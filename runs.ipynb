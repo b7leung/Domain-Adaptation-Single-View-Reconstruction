{
 "cells": [
  {
   "cell_type": "code",
   "execution_count": 1,
   "metadata": {
    "ExecuteTime": {
     "end_time": "2020-03-18T10:42:03.218434Z",
     "start_time": "2020-03-18T10:42:03.094846Z"
    }
   },
   "outputs": [],
   "source": [
    "%load_ext autoreload\n",
    "%autoreload 2"
   ]
  },
  {
   "cell_type": "markdown",
   "metadata": {},
   "source": [
    "# Currently Running"
   ]
  },
  {
   "cell_type": "code",
   "execution_count": null,
   "metadata": {},
   "outputs": [],
   "source": [
    "# Curr run notes\n",
    "# GPU 4, card 8: lam = 0.01 \n",
    "# GPU 4, card 9: lam = 0.1\n",
    "# GPU 5, card 4: lam = 1\n",
    "# GPU 5, card 8: lam = 10\n",
    "# GPU 6, card 6: lam = 100\n",
    "# GPU 6, card 7: lam = 1000"
   ]
  },
  {
   "cell_type": "code",
   "execution_count": 37,
   "metadata": {
    "ExecuteTime": {
     "end_time": "2020-03-19T11:55:14.326730Z",
     "start_time": "2020-03-19T11:55:14.191842Z"
    }
   },
   "outputs": [
    {
     "name": "stdout",
     "output_type": "stream",
     "text": [
      "python runner.py --gpu 7 --batch_size 32 --trial_comment OOWL_DA_CORAL_lam_1000 --train_target_dataset OOWL --DA CORAL --coral_lam 1000 --epoch 250 --classes aeroplane car display lamp telephone watercraft \n",
      "\n"
     ]
    }
   ],
   "source": [
    "\n",
    "# testing CORAL DA\n",
    "\n",
    "cmd = ('python runner.py --gpu 7 --batch_size 32 '\n",
    "       '--trial_comment OOWL_DA_CORAL_lam_1000 '\n",
    "       '--train_target_dataset OOWL --DA CORAL --coral_lam 1000 '\n",
    "       '--epoch 250 --classes aeroplane car display lamp telephone watercraft ')\n",
    "print(cmd+'\\n')\n",
    "#!{cmd}"
   ]
  },
  {
   "cell_type": "markdown",
   "metadata": {},
   "source": [
    "# Past Test Configs"
   ]
  },
  {
   "cell_type": "code",
   "execution_count": 9,
   "metadata": {
    "ExecuteTime": {
     "end_time": "2020-03-18T11:33:03.207301Z",
     "start_time": "2020-03-18T11:33:03.085940Z"
    }
   },
   "outputs": [
    {
     "name": "stdout",
     "output_type": "stream",
     "text": [
      "python runner.py --gpu 1 --trial_comment shapenet_from_scratch --epoch 250 \n",
      "\n"
     ]
    }
   ],
   "source": [
    "# testing training from scratch\n",
    "\n",
    "cmd = ('python runner.py --gpu 1 '\n",
    "       '--trial_comment shapenet_from_scratch '\n",
    "       '--epoch 250 ')\n",
    "print(cmd+'\\n')\n",
    "#!{cmd}"
   ]
  },
  {
   "cell_type": "code",
   "execution_count": 28,
   "metadata": {
    "ExecuteTime": {
     "end_time": "2020-03-19T11:25:29.286966Z",
     "start_time": "2020-03-19T11:25:29.161182Z"
    }
   },
   "outputs": [
    {
     "name": "stdout",
     "output_type": "stream",
     "text": [
      "python runner.py --gpu 1 --weights ./output/2020_03_18--04_45_29_shapenet_from_scratch_TRAIN/checkpoints/best-ckpt.pth --trial_comment shapenet_from_scratch --test\n",
      "\n"
     ]
    }
   ],
   "source": [
    "# testing test from scratch\n",
    "trial_name =\"2020_03_18--04_45_29_shapenet_from_scratch_TRAIN\"\n",
    "weights_path = \"./output/{}/checkpoints/best-ckpt.pth\".format(trial_name)\n",
    "\n",
    "cmd = ('python runner.py --gpu 1 --weights {} '\n",
    "       '--trial_comment shapenet_from_scratch '\n",
    "       '--test')\n",
    "\n",
    "cmd = cmd.format(weights_path)\n",
    "print(cmd+'\\n')"
   ]
  },
  {
   "cell_type": "code",
   "execution_count": 3,
   "metadata": {
    "ExecuteTime": {
     "end_time": "2020-03-18T07:01:03.864223Z",
     "start_time": "2020-03-18T07:01:03.857426Z"
    }
   },
   "outputs": [
    {
     "name": "stdout",
     "output_type": "stream",
     "text": [
      "python runner.py --gpu 7 --weights ./output/2020_03_03--19_54_23_train_on_places_full/checkpoints/best-ckpt.pth --trial_comment test_just_mean --test --test_dataset ShapeNet --save_num 0 --num_views 1 --mean_features_weight 1\n"
     ]
    }
   ],
   "source": [
    "trial_name =\"2020_03_03--19_54_23_train_on_places_full\"\n",
    "weights_path = \"./output/{}/checkpoints/best-ckpt.pth\".format(trial_name)\n",
    "\n",
    "cmd = ('python runner.py --gpu 7 --weights {} '\n",
    "       '--trial_comment test_just_mean '\n",
    "       '--test --test_dataset ShapeNet --save_num 0 '\n",
    "       '--num_views 1 --mean_features_weight 1')\n",
    "\n",
    "cmd = cmd.format(weights_path)\n",
    "print(cmd)\n",
    "#!{cmd}a"
   ]
  },
  {
   "cell_type": "code",
   "execution_count": null,
   "metadata": {},
   "outputs": [],
   "source": []
  },
  {
   "cell_type": "code",
   "execution_count": 14,
   "metadata": {
    "ExecuteTime": {
     "end_time": "2020-03-19T07:13:07.276957Z",
     "start_time": "2020-03-19T07:13:07.111436Z"
    }
   },
   "outputs": [
    {
     "data": {
      "text/plain": [
       "False"
      ]
     },
     "execution_count": 14,
     "metadata": {},
     "output_type": "execute_result"
    }
   ],
   "source": [
    "\"\" == None"
   ]
  },
  {
   "cell_type": "code",
   "execution_count": null,
   "metadata": {},
   "outputs": [],
   "source": []
  },
  {
   "cell_type": "code",
   "execution_count": null,
   "metadata": {},
   "outputs": [],
   "source": []
  },
  {
   "cell_type": "code",
   "execution_count": null,
   "metadata": {},
   "outputs": [],
   "source": []
  },
  {
   "cell_type": "code",
   "execution_count": null,
   "metadata": {},
   "outputs": [],
   "source": []
  },
  {
   "cell_type": "code",
   "execution_count": null,
   "metadata": {},
   "outputs": [],
   "source": []
  }
 ],
 "metadata": {
  "kernelspec": {
   "display_name": "Python 3",
   "language": "python",
   "name": "python3"
  },
  "language_info": {
   "codemirror_mode": {
    "name": "ipython",
    "version": 3
   },
   "file_extension": ".py",
   "mimetype": "text/x-python",
   "name": "python",
   "nbconvert_exporter": "python",
   "pygments_lexer": "ipython3",
   "version": "3.7.6"
  }
 },
 "nbformat": 4,
 "nbformat_minor": 4
}
