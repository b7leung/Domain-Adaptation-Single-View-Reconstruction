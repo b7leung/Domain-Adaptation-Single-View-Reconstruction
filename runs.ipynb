{
 "cells": [
  {
   "cell_type": "code",
   "execution_count": 1,
   "metadata": {
    "ExecuteTime": {
     "end_time": "2020-03-18T10:42:03.218434Z",
     "start_time": "2020-03-18T10:42:03.094846Z"
    }
   },
   "outputs": [],
   "source": [
    "%load_ext autoreload\n",
    "%autoreload 2"
   ]
  },
  {
   "cell_type": "markdown",
   "metadata": {},
   "source": [
    "# Current Experiment"
   ]
  },
  {
   "cell_type": "code",
   "execution_count": null,
   "metadata": {},
   "outputs": [],
   "source": [
    "# gpu 4, card 7 // linear adaptive voxel lam; DANN lam = 0\n",
    "# gpu 3, card 0 // DANN adaptive voxel lam; DANN lam = 0\n",
    "# gpu 3, card 1 // DANN adaptive voxel lam; DANN lam = 0.1\n",
    "# b2, gpu 4, card 8 // DANN adaptive voxel lam; DANN lam = 0.5\n",
    "# b1, gpu 4, card 9 // DANN adaptive voxel lam; DANN lam = 1\n",
    "# gpu 5, card 4 // linear adaptive voxel lam; DANN lam = 0.7\n",
    "# gpu 7, card 3 // OWILD DANN\n",
    "# gpu 7, card 7 // OOWL_Seg DANN\n",
    "# gpu 6, card 6 // OOWL_SEG DANN adaptive voxel lam; DANN lam = 1\n",
    "# gpu 4, card 7 // OOWL_SEG DANN adaptive voxel lam; DANN lam = 1"
   ]
  },
  {
   "cell_type": "code",
   "execution_count": 138,
   "metadata": {
    "ExecuteTime": {
     "end_time": "2020-03-27T04:27:02.571466Z",
     "start_time": "2020-03-27T04:27:02.550412Z"
    }
   },
   "outputs": [
    {
     "name": "stdout",
     "output_type": "stream",
     "text": [
      "python runner.py --gpu 7 --batch_size 64 --trial_comment OWILDVoxelCls_VoxLamExp_DANNlam1 --train_target_dataset OWILD --DA VoxelCls --voxel_lam -2 --DANN_lam 1 --epoch 100 --classes aeroplane car display lamp telephone watercraft \n",
      "\n"
     ]
    }
   ],
   "source": [
    "# training voxel classification\n",
    "#weights_path = \"./output/author_saved_params/Pix2Vox-A-ShapeNet.pth\"\n",
    "cmd = ('python runner.py --gpu 7 --batch_size 64 '\n",
    "       '--trial_comment OWILDVoxelCls_VoxLamExp_DANNlam1 '\n",
    "       '--train_target_dataset OWILD --DA VoxelCls --voxel_lam -2 --DANN_lam 1 '\n",
    "       '--epoch 100 --classes aeroplane car display lamp telephone watercraft ')\n",
    "\n",
    "cmd = cmd.format(weights_path)\n",
    "print(cmd+'\\n')"
   ]
  },
  {
   "cell_type": "code",
   "execution_count": 143,
   "metadata": {
    "ExecuteTime": {
     "end_time": "2020-03-27T04:30:21.398984Z",
     "start_time": "2020-03-27T04:30:21.378759Z"
    }
   },
   "outputs": [
    {
     "name": "stdout",
     "output_type": "stream",
     "text": [
      "python runner.py --gpu 3 --batch_size 64 --trial_comment ExampleTrial --train_target_dataset OOWL --DA VoxelCls --voxel_lam -2 --DANN_lam 1 --epoch 2 --classes aeroplane car display lamp telephone watercraft \n",
      "\n"
     ]
    }
   ],
   "source": [
    "# training voxel classification\n",
    "#weights_path = \"./output/author_saved_params/Pix2Vox-A-ShapeNet.pth\"\n",
    "cmd = ('python runner.py --gpu 3 --batch_size 64 '\n",
    "       '--trial_comment ExampleTrial '\n",
    "       '--train_target_dataset OOWL --DA VoxelCls --voxel_lam -2 --DANN_lam 1 '\n",
    "       '--epoch 2 --classes aeroplane car display lamp telephone watercraft ')\n",
    "\n",
    "cmd = cmd.format(weights_path)\n",
    "print(cmd+'\\n')"
   ]
  },
  {
   "cell_type": "code",
   "execution_count": 136,
   "metadata": {
    "ExecuteTime": {
     "end_time": "2020-03-27T04:26:26.680222Z",
     "start_time": "2020-03-27T04:26:26.546307Z"
    },
    "scrolled": true
   },
   "outputs": [
    {
     "name": "stdout",
     "output_type": "stream",
     "text": [
      "python runner.py --gpu 1 --batch_size 32 --weights ./output/2020_03_20--18_52_32_OOWLVoxelCls_VoxLamlinear_DANNlam0_TRAIN/checkpoints/best-ckpt.pth --use_train_set --trial_comment ALL_TRAINadaVoxLam_lin_DANNLam0 --test --test_dataset OOWL --save_num -1 --classes aeroplane car display lamp telephone watercraft \n",
      "\n",
      "python runner.py --gpu 1 --batch_size 32 --weights ./output/2020_03_20--18_56_47_OOWLVoxelCls_VoxLamlinear_DANNlam0.7_TRAIN/checkpoints/best-ckpt.pth --use_train_set --trial_comment ALL_TRAINadaVoxLam_lin_DANNLam0.7 --test --test_dataset OOWL --save_num -1 --classes aeroplane car display lamp telephone watercraft \n",
      "\n",
      "python runner.py --gpu 1 --batch_size 32 --weights ./output/2020_03_20--18_51_09_OOWLVoxelCls_VoxLamDANN_DANNlam0_TRAIN/checkpoints/best-ckpt.pth --use_train_set --trial_comment ALL_TRAINadaVoxLam_exp_DANNLam0 --test --test_dataset OOWL --save_num -1 --classes aeroplane car display lamp telephone watercraft \n",
      "\n",
      "python runner.py --gpu 1 --batch_size 32 --weights ./output/2020_03_20--18_49_57_OOWLVoxelCls_VoxLamDANN_DANNlam0.1_TRAIN/checkpoints/best-ckpt.pth --use_train_set --trial_comment ALL_TRAINadaVoxLam_exp_DANNLam0.1 --test --test_dataset OOWL --save_num -1 --classes aeroplane car display lamp telephone watercraft \n",
      "\n",
      "python runner.py --gpu 1 --batch_size 32 --weights ./output/2020_03_20--18_46_44_OOWLVoxelCls_VoxLamDANN_DANNlam0.5_TRAIN/checkpoints/best-ckpt.pth --use_train_set --trial_comment ALL_TRAINadaVoxLam_exp_DANNLam0.5 --test --test_dataset OOWL --save_num -1 --classes aeroplane car display lamp telephone watercraft \n",
      "\n",
      "python runner.py --gpu 1 --batch_size 32 --weights ./output/2020_03_20--18_47_03_OOWLVoxelCls_VoxLamDANN_DANNlam1_TRAIN/checkpoints/best-ckpt.pth --use_train_set --trial_comment ALL_TRAINadaVoxLam_exp_DANNLam1 --test --test_dataset OOWL --save_num -1 --classes aeroplane car display lamp telephone watercraft \n",
      "\n"
     ]
    }
   ],
   "source": [
    "# testing voxel classification on OOWL\n",
    "\n",
    "voxelcls_trials = [[\"2020_03_20--18_52_32_OOWLVoxelCls_VoxLamlinear_DANNlam0_TRAIN\", \"adaVoxLam_lin_DANNLam0\"],\n",
    "                   [\"2020_03_20--18_56_47_OOWLVoxelCls_VoxLamlinear_DANNlam0.7_TRAIN\", \"adaVoxLam_lin_DANNLam0.7\"],\n",
    "                   [\"2020_03_20--18_51_09_OOWLVoxelCls_VoxLamDANN_DANNlam0_TRAIN\", \"adaVoxLam_exp_DANNLam0\"],\n",
    "                   [\"2020_03_20--18_49_57_OOWLVoxelCls_VoxLamDANN_DANNlam0.1_TRAIN\", \"adaVoxLam_exp_DANNLam0.1\"],\n",
    "                   [\"2020_03_20--18_46_44_OOWLVoxelCls_VoxLamDANN_DANNlam0.5_TRAIN\", \"adaVoxLam_exp_DANNLam0.5\"],\n",
    "                   [\"2020_03_20--18_47_03_OOWLVoxelCls_VoxLamDANN_DANNlam1_TRAIN\", \"adaVoxLam_exp_DANNLam1\"],\n",
    "                  ]\n",
    "\n",
    "for trial_name, trial_title in voxelcls_trials:\n",
    "    weights_path = \"./output/{}/checkpoints/best-ckpt.pth\".format(trial_name)\n",
    "\n",
    "    cmd = ('python runner.py --gpu 1 --batch_size 32 --weights {} --use_train_set '\n",
    "           '--trial_comment ALL_TRAIN{} '\n",
    "           '--test --test_dataset OOWL --save_num -1 '\n",
    "           '--classes aeroplane car display lamp telephone watercraft ')\n",
    "    cmd = cmd.format(weights_path, trial_title)\n",
    "    print(cmd+'\\n')\n",
    "    #!{cmd} "
   ]
  },
  {
   "cell_type": "code",
   "execution_count": 51,
   "metadata": {
    "ExecuteTime": {
     "end_time": "2020-03-20T01:54:15.180028Z",
     "start_time": "2020-03-20T01:54:15.048625Z"
    }
   },
   "outputs": [
    {
     "name": "stdout",
     "output_type": "stream",
     "text": [
      "python runner.py --gpu 1 --batch_size 64 --trial_comment OOWL_DA_CORAL_lam_100 --train_target_dataset OOWL --DA CORAL --coral_lam 100 --epoch 250 --classes aeroplane car display lamp telephone watercraft \n",
      "\n"
     ]
    }
   ],
   "source": [
    "\n",
    "# training CORAL DA\n",
    "\n",
    "cmd = ('python runner.py --gpu 1 --batch_size 64 '\n",
    "       '--trial_comment OOWL_DA_CORAL_lam_100 '\n",
    "       '--train_target_dataset OOWL --DA CORAL --coral_lam 100 '\n",
    "       '--epoch 250 --classes aeroplane car display lamp telephone watercraft ')\n",
    "print(cmd+'\\n')\n",
    "#!{cmd}"
   ]
  },
  {
   "cell_type": "code",
   "execution_count": 110,
   "metadata": {
    "ExecuteTime": {
     "end_time": "2020-03-21T04:20:13.975733Z",
     "start_time": "2020-03-21T04:17:03.989712Z"
    },
    "scrolled": true
   },
   "outputs": [
    {
     "name": "stdout",
     "output_type": "stream",
     "text": [
      "python runner.py --gpu 1 --batch_size 32 --weights ./output/CORAL/2020_03_19--18_54_21_OOWL_DA_CORAL_lam_10_TRAIN/checkpoints/best-ckpt.pth --use_train_set --trial_comment ALL_TRAIN_OOWL_DA_CORAL_lam_10 --test --test_dataset OOWL --save_num -1 --classes aeroplane car display lamp telephone watercraft \n",
      "\n",
      "[INFO] 2020-03-20 21:17:06.591012 Collecting files of Taxonomy[ID=Airplane_Model, Name=Airplane_Model]\n",
      "[INFO] 2020-03-20 21:17:06.595359 Collecting files of Taxonomy[ID=Boat_Model, Name=Boat_Model]\n",
      "[INFO] 2020-03-20 21:17:06.599775 Collecting files of Taxonomy[ID=Car_Model, Name=Car_Model]\n",
      "[INFO] 2020-03-20 21:17:06.604126 Collecting files of Taxonomy[ID=Lamp, Name=Lamp]\n",
      "[INFO] 2020-03-20 21:17:06.608266 Collecting files of Taxonomy[ID=Monitor, Name=Monitor]\n",
      "[INFO] 2020-03-20 21:17:06.612468 Collecting files of Taxonomy[ID=Telephone, Name=Telephone]\n",
      "[INFO] 2020-03-20 21:17:06.617003 Complete collecting files of the dataset. Total files: 96.\n",
      "[INFO] 2020-03-20 21:17:13.277323 Loading weights from ./output/CORAL/2020_03_19--18_54_21_OOWL_DA_CORAL_lam_10_TRAIN/checkpoints/best-ckpt.pth ...\n",
      "                                                                                \r"
     ]
    }
   ],
   "source": [
    "# testing CORAL DA on OOWL\n",
    "CORAL_trial_names = {\n",
    "    100: \"2020_03_19--18_56_27_OOWL_DA_CORAL_lam_100_TRAIN\",\n",
    "    10: \"2020_03_19--18_54_21_OOWL_DA_CORAL_lam_10_TRAIN\",\n",
    "    1: \"2020_03_19--18_45_14_OOWL_DA_CORAL_lam_1_TRAIN\",\n",
    "    0: \"2020_03_19--15_40_22_OOWL_DA_CORAL_lam_0_TRAIN\",\n",
    "    0.1: \"2020_03_19--04_44_31_OOWL_DA_CORAL_lam_0.1_TRAIN\",\n",
    "    0.01: \"2020_03_19--04_44_23_OOWL_DA_CORAL_lam_0.01_TRAIN\"\n",
    "}\n",
    "for lam in [10]:\n",
    "#for lam in [100,10,1,0.1,0.01,0]:\n",
    "    trial_name = CORAL_trial_names[lam]\n",
    "    weights_path = \"./output/CORAL/{}/checkpoints/best-ckpt.pth\".format(trial_name)\n",
    "\n",
    "    cmd = ('python runner.py --gpu 1 --batch_size 32 --weights {} --use_train_set '\n",
    "           '--trial_comment ALL_TRAIN_OOWL_DA_CORAL_lam_{} '\n",
    "           '--test --test_dataset OOWL --save_num -1 '\n",
    "           '--classes aeroplane car display lamp telephone watercraft ')\n",
    "    cmd = cmd.format(weights_path, lam)\n",
    "    print(cmd+'\\n')\n",
    "    !{cmd}"
   ]
  },
  {
   "cell_type": "code",
   "execution_count": 119,
   "metadata": {
    "ExecuteTime": {
     "end_time": "2020-03-21T08:01:46.454011Z",
     "start_time": "2020-03-21T08:01:46.314199Z"
    }
   },
   "outputs": [],
   "source": [
    "def test_trial(trial_name, test_dataset):\n",
    "    weights_path = \"./output/{}/checkpoints/best-ckpt.pth\".format(trial_name)\n",
    "    cmd = ('python runner.py --gpu 1 --batch_size 32 --weights {} --use_train_set '\n",
    "       '--trial_comment {} '\n",
    "       '--test --test_dataset {} --save_num -1 '\n",
    "       '--classes aeroplane car display lamp telephone watercraft ')\n",
    "    cmd = cmd.format(weights_path, trial_name, test_dataset)\n",
    "    print(cmd+'\\n')\n",
    "    !{cmd}"
   ]
  },
  {
   "cell_type": "code",
   "execution_count": 134,
   "metadata": {
    "ExecuteTime": {
     "end_time": "2020-03-21T21:57:28.514023Z",
     "start_time": "2020-03-21T21:54:23.270706Z"
    }
   },
   "outputs": [
    {
     "name": "stdout",
     "output_type": "stream",
     "text": [
      "python runner.py --gpu 1 --batch_size 32 --weights ./output/2020_03_21--01_49_04_OWILDVoxelCls_VoxLamExp_DANNlam1_TRAIN/checkpoints/best-ckpt.pth --use_train_set --trial_comment 2020_03_21--01_49_04_OWILDVoxelCls_VoxLamExp_DANNlam1_TRAIN --test --test_dataset OWILD --save_num -1 --classes aeroplane car display lamp telephone watercraft \n",
      "\n",
      "[INFO] 2020-03-21 14:54:26.316714 Collecting files of Taxonomy[ID=Airplane_Model, Name=Airplane_Model]\n",
      "[INFO] 2020-03-21 14:54:26.319619 Collecting files of Taxonomy[ID=Boat_Model, Name=Boat_Model]\n",
      "[INFO] 2020-03-21 14:54:26.320896 Collecting files of Taxonomy[ID=Car_Model, Name=Car_Model]\n",
      "[INFO] 2020-03-21 14:54:26.323234 Collecting files of Taxonomy[ID=Lamp, Name=Lamp]\n",
      "[INFO] 2020-03-21 14:54:26.342086 Collecting files of Taxonomy[ID=Monitor, Name=Monitor]\n",
      "[INFO] 2020-03-21 14:54:26.349628 Collecting files of Taxonomy[ID=Telephone, Name=Telephone]\n",
      "[INFO] 2020-03-21 14:54:26.351244 Complete collecting files of the dataset. Total files: 93.\n",
      "[INFO] 2020-03-21 14:54:33.775321 Loading weights from ./output/2020_03_21--01_49_04_OWILDVoxelCls_VoxLamExp_DANNlam1_TRAIN/checkpoints/best-ckpt.pth ...\n",
      "                                                                                \r"
     ]
    }
   ],
   "source": [
    "test_trial(\"2020_03_21--01_49_04_OWILDVoxelCls_VoxLamExp_DANNlam1_TRAIN\", \"OWILD\")"
   ]
  },
  {
   "cell_type": "code",
   "execution_count": 135,
   "metadata": {
    "ExecuteTime": {
     "end_time": "2020-03-21T22:02:50.912081Z",
     "start_time": "2020-03-21T21:57:38.388681Z"
    }
   },
   "outputs": [
    {
     "name": "stdout",
     "output_type": "stream",
     "text": [
      "python runner.py --gpu 1 --batch_size 32 --weights ./output/2020_03_21--01_48_40_OOWLSEGVoxelCls_VoxLamExp_DANNlam1_TRAIN/checkpoints/best-ckpt.pth --use_train_set --trial_comment 2020_03_21--01_48_40_OOWLSEGVoxelCls_VoxLamExp_DANNlam1_TRAIN --test --test_dataset OOWL_SEGMENTED --save_num -1 --classes aeroplane car display lamp telephone watercraft \n",
      "\n",
      "[INFO] 2020-03-21 14:57:41.178715 Collecting files of Taxonomy[ID=Airplane_Model, Name=Airplane_Model]\n",
      "[INFO] 2020-03-21 14:57:41.179964 Collecting files of Taxonomy[ID=Boat_Model, Name=Boat_Model]\n",
      "[INFO] 2020-03-21 14:57:41.180767 Collecting files of Taxonomy[ID=Car_Model, Name=Car_Model]\n",
      "[INFO] 2020-03-21 14:57:41.181544 Collecting files of Taxonomy[ID=Lamp, Name=Lamp]\n",
      "[INFO] 2020-03-21 14:57:41.182187 Collecting files of Taxonomy[ID=Monitor, Name=Monitor]\n",
      "[INFO] 2020-03-21 14:57:41.182809 Collecting files of Taxonomy[ID=Telephone, Name=Telephone]\n",
      "[INFO] 2020-03-21 14:57:41.183733 Complete collecting files of the dataset. Total files: 96.\n",
      "[INFO] 2020-03-21 14:57:48.974483 Loading weights from ./output/2020_03_21--01_48_40_OOWLSEGVoxelCls_VoxLamExp_DANNlam1_TRAIN/checkpoints/best-ckpt.pth ...\n",
      "                                                                                \r"
     ]
    }
   ],
   "source": [
    "test_trial(\"2020_03_21--01_48_40_OOWLSEGVoxelCls_VoxLamExp_DANNlam1_TRAIN\", \"OOWL_SEGMENTED\")"
   ]
  },
  {
   "cell_type": "code",
   "execution_count": 106,
   "metadata": {
    "ExecuteTime": {
     "end_time": "2020-03-21T02:45:19.492963Z",
     "start_time": "2020-03-21T02:45:19.373465Z"
    }
   },
   "outputs": [
    {
     "name": "stdout",
     "output_type": "stream",
     "text": [
      "python runner.py --gpu 1 --batch_size 64 --trial_comment OOWL_DA_DANN_lam_1 --train_target_dataset OOWL --DA DANN --DANN_lam 1 --epoch 250 --classes aeroplane car display lamp telephone watercraft \n",
      "\n"
     ]
    }
   ],
   "source": [
    "# Training DANN DA\n",
    "lam = 1\n",
    "cmd = ('python runner.py --gpu 7 --batch_size 64 '\n",
    "       '--trial_comment OOWL_DA_DANN_lam_{} '\n",
    "       '--train_target_dataset OOWL --DA DANN --DANN_lam {} '\n",
    "       '--epoch 250 --classes aeroplane car display lamp telephone watercraft ')\n",
    "print(cmd.format(lam,lam)+'\\n')"
   ]
  },
  {
   "cell_type": "code",
   "execution_count": null,
   "metadata": {},
   "outputs": [],
   "source": [
    "python runner.py --gpu 7 --batch_size 64 --trial_comment OOWLSEG_DA_DANN_lam_1 --train_target_dataset OOWL_SEGMENTED --DA DANN --DANN_lam 1 --epoch 250 --classes aeroplane car display lamp telephone watercraft"
   ]
  },
  {
   "cell_type": "code",
   "execution_count": 112,
   "metadata": {
    "ExecuteTime": {
     "end_time": "2020-03-21T04:25:33.828407Z",
     "start_time": "2020-03-21T04:20:53.203470Z"
    }
   },
   "outputs": [
    {
     "name": "stdout",
     "output_type": "stream",
     "text": [
      "python runner.py --gpu 1 --batch_size 32 --weights ./output/DANN/2020_03_19--21_49_02_OOWL_DA_DANN_lam_1_TRAIN/checkpoints/best-ckpt.pth --use_train_set --trial_comment ALL_TRAIN_OOWL_DA_DANN_lam_1 --test --test_dataset OOWL --save_num -1 --classes aeroplane car display lamp telephone watercraft \n",
      "\n",
      "[INFO] 2020-03-20 21:20:55.194048 Collecting files of Taxonomy[ID=Airplane_Model, Name=Airplane_Model]\n",
      "[INFO] 2020-03-20 21:20:55.205761 Collecting files of Taxonomy[ID=Boat_Model, Name=Boat_Model]\n",
      "[INFO] 2020-03-20 21:20:55.211588 Collecting files of Taxonomy[ID=Car_Model, Name=Car_Model]\n",
      "[INFO] 2020-03-20 21:20:55.217062 Collecting files of Taxonomy[ID=Lamp, Name=Lamp]\n",
      "[INFO] 2020-03-20 21:20:55.222629 Collecting files of Taxonomy[ID=Monitor, Name=Monitor]\n",
      "[INFO] 2020-03-20 21:20:55.228366 Collecting files of Taxonomy[ID=Telephone, Name=Telephone]\n",
      "[INFO] 2020-03-20 21:20:55.233831 Complete collecting files of the dataset. Total files: 96.\n",
      "[INFO] 2020-03-20 21:21:02.113276 Loading weights from ./output/DANN/2020_03_19--21_49_02_OOWL_DA_DANN_lam_1_TRAIN/checkpoints/best-ckpt.pth ...\n",
      "                                                                                \r"
     ]
    }
   ],
   "source": [
    "# testing DANN on OOWL\n",
    "DANN_trial_names = {\n",
    "    1: \"2020_03_19--21_49_02_OOWL_DA_DANN_lam_1_TRAIN\",\n",
    "    0.5: \"2020_03_19--21_48_03_OOWL_DA_DANN_lam_0.5_TRAIN\",\n",
    "    0.1: \"2020_03_19--21_46_31_OOWL_DA_DANN_lam_0.1_TRAIN\",\n",
    "}\n",
    "\n",
    "for lam in [1]:\n",
    "#for lam in [0.1,0.5,1]:\n",
    "    trial_name = DANN_trial_names[lam]\n",
    "    weights_path = \"./output/DANN/{}/checkpoints/best-ckpt.pth\".format(trial_name)\n",
    "\n",
    "    cmd = ('python runner.py --gpu 1 --batch_size 32 --weights {} --use_train_set '\n",
    "           '--trial_comment ALL_TRAIN_OOWL_DA_DANN_lam_{} '\n",
    "           '--test --test_dataset OOWL --save_num -1 '\n",
    "           '--classes aeroplane car display lamp telephone watercraft ')\n",
    "    cmd = cmd.format(weights_path, lam)\n",
    "    print(cmd+'\\n')\n",
    "    !{cmd} "
   ]
  },
  {
   "cell_type": "code",
   "execution_count": null,
   "metadata": {},
   "outputs": [],
   "source": []
  },
  {
   "cell_type": "markdown",
   "metadata": {},
   "source": [
    "# Past Test Configs"
   ]
  },
  {
   "cell_type": "code",
   "execution_count": 9,
   "metadata": {
    "ExecuteTime": {
     "end_time": "2020-03-18T11:33:03.207301Z",
     "start_time": "2020-03-18T11:33:03.085940Z"
    }
   },
   "outputs": [
    {
     "name": "stdout",
     "output_type": "stream",
     "text": [
      "python runner.py --gpu 1 --trial_comment shapenet_from_scratch --epoch 250 \n",
      "\n"
     ]
    }
   ],
   "source": [
    "# testing training from scratch\n",
    "\n",
    "cmd = ('python runner.py --gpu 1 '\n",
    "       '--trial_comment shapenet_from_scratch '\n",
    "       '--epoch 250 ')\n",
    "print(cmd+'\\n')\n",
    "#!{cmd}"
   ]
  },
  {
   "cell_type": "code",
   "execution_count": 28,
   "metadata": {
    "ExecuteTime": {
     "end_time": "2020-03-19T11:25:29.286966Z",
     "start_time": "2020-03-19T11:25:29.161182Z"
    }
   },
   "outputs": [
    {
     "name": "stdout",
     "output_type": "stream",
     "text": [
      "python runner.py --gpu 1 --weights ./output/2020_03_18--04_45_29_shapenet_from_scratch_TRAIN/checkpoints/best-ckpt.pth --trial_comment shapenet_from_scratch --test\n",
      "\n"
     ]
    }
   ],
   "source": [
    "# testing test from scratch\n",
    "trial_name =\"2020_03_18--04_45_29_shapenet_from_scratch_TRAIN\"\n",
    "weights_path = \"./output/{}/checkpoints/best-ckpt.pth\".format(trial_name)\n",
    "\n",
    "cmd = ('python runner.py --gpu 1 --weights {} '\n",
    "       '--trial_comment shapenet_from_scratch '\n",
    "       '--test')\n",
    "\n",
    "cmd = cmd.format(weights_path)\n",
    "print(cmd+'\\n')"
   ]
  },
  {
   "cell_type": "code",
   "execution_count": 3,
   "metadata": {
    "ExecuteTime": {
     "end_time": "2020-03-18T07:01:03.864223Z",
     "start_time": "2020-03-18T07:01:03.857426Z"
    }
   },
   "outputs": [
    {
     "name": "stdout",
     "output_type": "stream",
     "text": [
      "python runner.py --gpu 7 --weights ./output/2020_03_03--19_54_23_train_on_places_full/checkpoints/best-ckpt.pth --trial_comment test_just_mean --test --test_dataset ShapeNet --save_num 0 --num_views 1 --mean_features_weight 1\n"
     ]
    }
   ],
   "source": [
    "trial_name =\"2020_03_03--19_54_23_train_on_places_full\"\n",
    "weights_path = \"./output/{}/checkpoints/best-ckpt.pth\".format(trial_name)\n",
    "\n",
    "cmd = ('python runner.py --gpu 7 --weights {} '\n",
    "       '--trial_comment test_just_mean '\n",
    "       '--test --test_dataset ShapeNet --save_num 0 '\n",
    "       '--num_views 1 --mean_features_weight 1')\n",
    "\n",
    "cmd = cmd.format(weights_path)\n",
    "print(cmd)\n",
    "#!{cmd}a"
   ]
  },
  {
   "cell_type": "code",
   "execution_count": null,
   "metadata": {},
   "outputs": [],
   "source": []
  },
  {
   "cell_type": "code",
   "execution_count": 14,
   "metadata": {
    "ExecuteTime": {
     "end_time": "2020-03-19T07:13:07.276957Z",
     "start_time": "2020-03-19T07:13:07.111436Z"
    }
   },
   "outputs": [
    {
     "data": {
      "text/plain": [
       "False"
      ]
     },
     "execution_count": 14,
     "metadata": {},
     "output_type": "execute_result"
    }
   ],
   "source": [
    "\"\" == None"
   ]
  },
  {
   "cell_type": "code",
   "execution_count": 55,
   "metadata": {
    "ExecuteTime": {
     "end_time": "2020-03-20T04:08:31.491574Z",
     "start_time": "2020-03-20T04:08:31.470709Z"
    }
   },
   "outputs": [],
   "source": [
    "d = {'EDLoss': 16.482019424438477, 'RLoss': 14.761687278747559, 'DomainDisLoss': 0.693098783493042, 'Epoch': 0, 'Minibatch': 0}"
   ]
  },
  {
   "cell_type": "code",
   "execution_count": 76,
   "metadata": {
    "ExecuteTime": {
     "end_time": "2020-03-20T04:15:57.042527Z",
     "start_time": "2020-03-20T04:15:57.022229Z"
    }
   },
   "outputs": [],
   "source": [
    "def record2string(record_entry):\n",
    "    \n",
    "    s = \"Epoch: {} Minibatch: {} ///// \".format(record_entry[\"Epoch\"], record_entry[\"Minibatch\"])\n",
    "    for key in record_entry:\n",
    "        if key not in [\"Epoch\", \"Minibatch\"]:\n",
    "            s = s + \"{}: {:.3f} \".format(key, record_entry[key])\n",
    "    return s"
   ]
  },
  {
   "cell_type": "code",
   "execution_count": 77,
   "metadata": {
    "ExecuteTime": {
     "end_time": "2020-03-20T04:15:57.743734Z",
     "start_time": "2020-03-20T04:15:57.723673Z"
    }
   },
   "outputs": [
    {
     "name": "stdout",
     "output_type": "stream",
     "text": [
      "Epoch: 0 Minibatch: 0 ///// EDLoss: 16.482 RLoss: 14.762 DomainDisLoss: 0.693 \n"
     ]
    }
   ],
   "source": [
    "print(record2string(d))"
   ]
  },
  {
   "cell_type": "code",
   "execution_count": 75,
   "metadata": {
    "ExecuteTime": {
     "end_time": "2020-03-20T04:15:37.272205Z",
     "start_time": "2020-03-20T04:15:37.253718Z"
    }
   },
   "outputs": [
    {
     "name": "stdout",
     "output_type": "stream",
     "text": [
      "Epoch: 0 Minibatch: 0 ///// EDLoss: 16.48 RLoss: 14.76 DomainDisLoss: 0.6931 \n"
     ]
    }
   ],
   "source": [
    "\n",
    "print(record2string(d))"
   ]
  },
  {
   "cell_type": "code",
   "execution_count": null,
   "metadata": {},
   "outputs": [],
   "source": []
  }
 ],
 "metadata": {
  "kernelspec": {
   "display_name": "Python 3",
   "language": "python",
   "name": "python3"
  },
  "language_info": {
   "codemirror_mode": {
    "name": "ipython",
    "version": 3
   },
   "file_extension": ".py",
   "mimetype": "text/x-python",
   "name": "python",
   "nbconvert_exporter": "python",
   "pygments_lexer": "ipython3",
   "version": "3.7.6"
  }
 },
 "nbformat": 4,
 "nbformat_minor": 4
}
