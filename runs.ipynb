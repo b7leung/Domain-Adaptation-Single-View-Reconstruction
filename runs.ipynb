{
 "cells": [
  {
   "cell_type": "code",
   "execution_count": 1,
   "metadata": {
    "ExecuteTime": {
     "end_time": "2020-03-18T10:42:03.218434Z",
     "start_time": "2020-03-18T10:42:03.094846Z"
    }
   },
   "outputs": [],
   "source": [
    "%load_ext autoreload\n",
    "%autoreload 2"
   ]
  },
  {
   "cell_type": "code",
   "execution_count": 9,
   "metadata": {
    "ExecuteTime": {
     "end_time": "2020-03-18T11:33:03.207301Z",
     "start_time": "2020-03-18T11:33:03.085940Z"
    }
   },
   "outputs": [
    {
     "name": "stdout",
     "output_type": "stream",
     "text": [
      "python runner.py --gpu 1 --trial_comment shapenet_from_scratch --epoch 250 \n",
      "\n"
     ]
    }
   ],
   "source": [
    "# testing training from scratch\n",
    "\n",
    "cmd = ('python runner.py --gpu 1 '\n",
    "       '--trial_comment shapenet_from_scratch '\n",
    "       '--epoch 250 ')\n",
    "print(cmd+'\\n')\n",
    "#!{cmd}"
   ]
  },
  {
   "cell_type": "code",
   "execution_count": 20,
   "metadata": {
    "ExecuteTime": {
     "end_time": "2020-03-19T08:35:31.065547Z",
     "start_time": "2020-03-19T08:35:30.940682Z"
    }
   },
   "outputs": [
    {
     "name": "stdout",
     "output_type": "stream",
     "text": [
      "python runner.py --gpu 1 --weights ./output/2020_03_18--04_45_29_shapenet_from_scratch_TRAIN/checkpoints/best-ckpt.pth --trial_comment shapenet_from_scratch --test\n",
      "\n"
     ]
    }
   ],
   "source": [
    "# testing test from scratch\n",
    "trial_name =\"2020_03_18--04_45_29_shapenet_from_scratch_TRAIN\"\n",
    "weights_path = \"./output/{}/checkpoints/best-ckpt.pth\".format(trial_name)\n",
    "\n",
    "cmd = ('python runner.py --gpu 1 --weights {} '\n",
    "       '--trial_comment shapenet_from_scratch '\n",
    "       '--test')\n",
    "\n",
    "cmd = cmd.format(weights_path)\n",
    "print(cmd+'\\n')"
   ]
  },
  {
   "cell_type": "code",
   "execution_count": null,
   "metadata": {},
   "outputs": [],
   "source": []
  },
  {
   "cell_type": "code",
   "execution_count": 25,
   "metadata": {
    "ExecuteTime": {
     "end_time": "2020-03-19T10:59:48.536274Z",
     "start_time": "2020-03-19T10:59:48.396324Z"
    }
   },
   "outputs": [
    {
     "name": "stdout",
     "output_type": "stream",
     "text": [
      "python runner.py --gpu 8 --batch_size 16 --trial_comment CORAL_test --train_target_dataset OOWL --DA CORAL --coral_lam 1 --epoch 3 --classes aeroplane car display lamp telephone watercraft \n",
      "\n"
     ]
    }
   ],
   "source": [
    "\n",
    "# testing CORAL DA\n",
    "\n",
    "cmd = ('python runner.py --gpu 8 --batch_size 16 '\n",
    "       '--trial_comment CORAL_test '\n",
    "       '--train_target_dataset OOWL --DA CORAL --coral_lam 1 '\n",
    "       '--epoch 3 --classes aeroplane car display lamp telephone watercraft ')\n",
    "print(cmd+'\\n')\n",
    "#!{cmd}"
   ]
  },
  {
   "cell_type": "code",
   "execution_count": 14,
   "metadata": {
    "ExecuteTime": {
     "end_time": "2020-03-19T07:13:07.276957Z",
     "start_time": "2020-03-19T07:13:07.111436Z"
    }
   },
   "outputs": [
    {
     "data": {
      "text/plain": [
       "False"
      ]
     },
     "execution_count": 14,
     "metadata": {},
     "output_type": "execute_result"
    }
   ],
   "source": [
    "\"\" == None"
   ]
  },
  {
   "cell_type": "code",
   "execution_count": null,
   "metadata": {},
   "outputs": [],
   "source": []
  },
  {
   "cell_type": "code",
   "execution_count": 3,
   "metadata": {
    "ExecuteTime": {
     "end_time": "2020-03-18T07:01:03.864223Z",
     "start_time": "2020-03-18T07:01:03.857426Z"
    }
   },
   "outputs": [
    {
     "name": "stdout",
     "output_type": "stream",
     "text": [
      "python runner.py --gpu 7 --weights ./output/2020_03_03--19_54_23_train_on_places_full/checkpoints/best-ckpt.pth --trial_comment test_just_mean --test --test_dataset ShapeNet --save_num 0 --num_views 1 --mean_features_weight 1\n"
     ]
    }
   ],
   "source": [
    "trial_name =\"2020_03_03--19_54_23_train_on_places_full\"\n",
    "weights_path = \"./output/{}/checkpoints/best-ckpt.pth\".format(trial_name)\n",
    "\n",
    "cmd = ('python runner.py --gpu 7 --weights {} '\n",
    "       '--trial_comment test_just_mean '\n",
    "       '--test --test_dataset ShapeNet --save_num 0 '\n",
    "       '--num_views 1 --mean_features_weight 1')\n",
    "\n",
    "cmd = cmd.format(weights_path)\n",
    "print(cmd)\n",
    "#!{cmd}a"
   ]
  },
  {
   "cell_type": "code",
   "execution_count": null,
   "metadata": {},
   "outputs": [],
   "source": []
  },
  {
   "cell_type": "code",
   "execution_count": null,
   "metadata": {},
   "outputs": [],
   "source": []
  },
  {
   "cell_type": "code",
   "execution_count": null,
   "metadata": {},
   "outputs": [],
   "source": []
  },
  {
   "cell_type": "code",
   "execution_count": null,
   "metadata": {},
   "outputs": [],
   "source": []
  }
 ],
 "metadata": {
  "kernelspec": {
   "display_name": "Python 3",
   "language": "python",
   "name": "python3"
  },
  "language_info": {
   "codemirror_mode": {
    "name": "ipython",
    "version": 3
   },
   "file_extension": ".py",
   "mimetype": "text/x-python",
   "name": "python",
   "nbconvert_exporter": "python",
   "pygments_lexer": "ipython3",
   "version": "3.7.6"
  }
 },
 "nbformat": 4,
 "nbformat_minor": 4
}
