{
 "cells": [
  {
   "cell_type": "code",
   "execution_count": 1,
   "metadata": {
    "ExecuteTime": {
     "end_time": "2020-03-18T10:42:03.218434Z",
     "start_time": "2020-03-18T10:42:03.094846Z"
    }
   },
   "outputs": [],
   "source": [
    "%load_ext autoreload\n",
    "%autoreload 2"
   ]
  },
  {
   "cell_type": "code",
   "execution_count": 9,
   "metadata": {
    "ExecuteTime": {
     "end_time": "2020-03-18T11:33:03.207301Z",
     "start_time": "2020-03-18T11:33:03.085940Z"
    }
   },
   "outputs": [
    {
     "name": "stdout",
     "output_type": "stream",
     "text": [
      "python runner.py --gpu 1 --trial_comment shapenet_from_scratch --epoch 250 \n",
      "\n"
     ]
    }
   ],
   "source": [
    "# testing training from scratch\n",
    "\n",
    "cmd = ('python runner.py --gpu 1 '\n",
    "       '--trial_comment shapenet_from_scratch '\n",
    "       '--epoch 250 ')\n",
    "print(cmd+'\\n')\n",
    "#!{cmd}"
   ]
  },
  {
   "cell_type": "code",
   "execution_count": 11,
   "metadata": {
    "ExecuteTime": {
     "end_time": "2020-03-19T02:34:11.744689Z",
     "start_time": "2020-03-19T02:34:11.732784Z"
    }
   },
   "outputs": [
    {
     "name": "stdout",
     "output_type": "stream",
     "text": [
      "python runner.py --gpu 1 --weights ./output/2020_03_18--04_45_29_shapenet_from_scratch_TRAIN/checkpoints/best-ckpt.pth --trial_comment shapenet_from_scratch --test\n",
      "\n"
     ]
    }
   ],
   "source": [
    "# testing test from scratch\n",
    "trial_name =\"2020_03_18--04_45_29_shapenet_from_scratch_TRAIN\"\n",
    "weights_path = \"./output/{}/checkpoints/best-ckpt.pth\".format(trial_name)\n",
    "\n",
    "cmd = ('python runner.py --gpu 1 --weights {} '\n",
    "       '--trial_comment shapenet_from_scratch '\n",
    "       '--test')\n",
    "\n",
    "cmd = cmd.format(weights_path)\n",
    "print(cmd+'\\n')"
   ]
  },
  {
   "cell_type": "code",
   "execution_count": null,
   "metadata": {},
   "outputs": [],
   "source": []
  },
  {
   "cell_type": "code",
   "execution_count": null,
   "metadata": {},
   "outputs": [],
   "source": []
  },
  {
   "cell_type": "code",
   "execution_count": null,
   "metadata": {},
   "outputs": [],
   "source": []
  },
  {
   "cell_type": "code",
   "execution_count": null,
   "metadata": {},
   "outputs": [],
   "source": []
  },
  {
   "cell_type": "code",
   "execution_count": null,
   "metadata": {},
   "outputs": [],
   "source": []
  },
  {
   "cell_type": "code",
   "execution_count": 3,
   "metadata": {
    "ExecuteTime": {
     "end_time": "2020-03-18T07:01:03.864223Z",
     "start_time": "2020-03-18T07:01:03.857426Z"
    }
   },
   "outputs": [
    {
     "name": "stdout",
     "output_type": "stream",
     "text": [
      "python runner.py --gpu 7 --weights ./output/2020_03_03--19_54_23_train_on_places_full/checkpoints/best-ckpt.pth --trial_comment test_just_mean --test --test_dataset ShapeNet --save_num 0 --num_views 1 --mean_features_weight 1\n"
     ]
    }
   ],
   "source": [
    "trial_name =\"2020_03_03--19_54_23_train_on_places_full\"\n",
    "weights_path = \"./output/{}/checkpoints/best-ckpt.pth\".format(trial_name)\n",
    "\n",
    "cmd = ('python runner.py --gpu 7 --weights {} '\n",
    "       '--trial_comment test_just_mean '\n",
    "       '--test --test_dataset ShapeNet --save_num 0 '\n",
    "       '--num_views 1 --mean_features_weight 1')\n",
    "\n",
    "cmd = cmd.format(weights_path)\n",
    "print(cmd)\n",
    "#!{cmd}a"
   ]
  },
  {
   "cell_type": "code",
   "execution_count": null,
   "metadata": {},
   "outputs": [],
   "source": []
  },
  {
   "cell_type": "code",
   "execution_count": null,
   "metadata": {},
   "outputs": [],
   "source": []
  },
  {
   "cell_type": "code",
   "execution_count": null,
   "metadata": {},
   "outputs": [],
   "source": []
  },
  {
   "cell_type": "code",
   "execution_count": null,
   "metadata": {},
   "outputs": [],
   "source": []
  }
 ],
 "metadata": {
  "kernelspec": {
   "display_name": "Python 3",
   "language": "python",
   "name": "python3"
  },
  "language_info": {
   "codemirror_mode": {
    "name": "ipython",
    "version": 3
   },
   "file_extension": ".py",
   "mimetype": "text/x-python",
   "name": "python",
   "nbconvert_exporter": "python",
   "pygments_lexer": "ipython3",
   "version": "3.7.6"
  }
 },
 "nbformat": 4,
 "nbformat_minor": 4
}
