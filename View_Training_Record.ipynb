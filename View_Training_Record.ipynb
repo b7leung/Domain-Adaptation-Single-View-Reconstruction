{
 "cells": [
  {
   "cell_type": "code",
   "execution_count": 1,
   "metadata": {
    "ExecuteTime": {
     "end_time": "2020-03-19T07:19:24.631802Z",
     "start_time": "2020-03-19T07:19:24.581817Z"
    }
   },
   "outputs": [],
   "source": [
    "%load_ext autoreload\n",
    "%autoreload 2"
   ]
  },
  {
   "cell_type": "code",
   "execution_count": 2,
   "metadata": {
    "ExecuteTime": {
     "end_time": "2020-03-19T07:19:27.869156Z",
     "start_time": "2020-03-19T07:19:26.427187Z"
    }
   },
   "outputs": [],
   "source": [
    "import pandas as pd\n",
    "import numpy as np\n",
    "import matplotlib.pyplot as plt"
   ]
  },
  {
   "cell_type": "code",
   "execution_count": 11,
   "metadata": {
    "ExecuteTime": {
     "end_time": "2020-03-19T07:26:56.765851Z",
     "start_time": "2020-03-19T07:26:56.745003Z"
    }
   },
   "outputs": [],
   "source": [
    "def get_trial_df(trial_name, minibatch_cols, epoch_cols):\n",
    "    tr = pd.read_pickle(\"./output/{}/training_record.pkl\".format(trial_name))\n",
    "    num_minibatch = tr[\"Minibatch\"].max()\n",
    "    minibatch_df = (tr[tr[\"Minibatch\"]!=-1])\n",
    "    minibatch_df[\"Epoch\"] = minibatch_df[\"Epoch\"] + minibatch_df[\"Minibatch\"]*(1/num_minibatch)\n",
    "    minibatch_df = minibatch_df[[\"Epoch\"]+minibatch_cols]\n",
    "\n",
    "    epoch_df = (tr[tr[\"Minibatch\"]==-1])\n",
    "    epoch_df = epoch_df[[\"Epoch\"]+epoch_cols]\n",
    "    return minibatch_df, epoch_df"
   ]
  },
  {
   "cell_type": "code",
   "execution_count": 17,
   "metadata": {
    "ExecuteTime": {
     "end_time": "2020-03-19T11:08:35.138817Z",
     "start_time": "2020-03-19T11:08:35.106661Z"
    }
   },
   "outputs": [],
   "source": [
    "def plot_coral(minibatch_df):\n",
    "    x = minibatch_df[['Epoch']]\n",
    "    \n",
    "    y1 = minibatch_df[['CoralLoss']]\n",
    "    fig = plt.figure()\n",
    "    ax1 = fig.add_subplot(111)\n",
    "    ax1.plot(x, y1)\n",
    "    ax1.set_ylabel('CoralLoss', color='b')\n",
    "    ax1.set_xlabel(\"Epoch\")\n",
    "    #ax1.set_title(\"L2 Loss vs IoU, Lambda\")\n",
    "    for tl in ax1.get_yticklabels():\n",
    "        tl.set_color('b')\n",
    "\n",
    "\n",
    "    y2 = minibatch_df[['EDLoss']]\n",
    "    ax2 = ax1.twinx()\n",
    "    ax2.plot(x, y2, 'r-')\n",
    "    ax2.set_ylabel('EDLoss', color='r')\n",
    "    for tl in ax2.get_yticklabels():\n",
    "        tl.set_color('r')"
   ]
  },
  {
   "cell_type": "code",
   "execution_count": 19,
   "metadata": {
    "ExecuteTime": {
     "end_time": "2020-03-19T11:09:09.028921Z",
     "start_time": "2020-03-19T11:09:08.480304Z"
    }
   },
   "outputs": [
    {
     "name": "stderr",
     "output_type": "stream",
     "text": [
      "/data7/drone_machinelearning/anaconda3/envs/standard/lib/python3.7/site-packages/ipykernel_launcher.py:5: SettingWithCopyWarning: \n",
      "A value is trying to be set on a copy of a slice from a DataFrame.\n",
      "Try using .loc[row_indexer,col_indexer] = value instead\n",
      "\n",
      "See the caveats in the documentation: https://pandas.pydata.org/pandas-docs/stable/user_guide/indexing.html#returning-a-view-versus-a-copy\n",
      "  \"\"\"\n"
     ]
    },
    {
     "data": {
      "text/html": [
       "<div>\n",
       "<style scoped>\n",
       "    .dataframe tbody tr th:only-of-type {\n",
       "        vertical-align: middle;\n",
       "    }\n",
       "\n",
       "    .dataframe tbody tr th {\n",
       "        vertical-align: top;\n",
       "    }\n",
       "\n",
       "    .dataframe thead th {\n",
       "        text-align: right;\n",
       "    }\n",
       "</style>\n",
       "<table border=\"1\" class=\"dataframe\">\n",
       "  <thead>\n",
       "    <tr style=\"text-align: right;\">\n",
       "      <th></th>\n",
       "      <th>Epoch</th>\n",
       "      <th>IoU</th>\n",
       "    </tr>\n",
       "  </thead>\n",
       "  <tbody>\n",
       "    <tr>\n",
       "      <th>95</th>\n",
       "      <td>0.0</td>\n",
       "      <td>0.342671</td>\n",
       "    </tr>\n",
       "    <tr>\n",
       "      <th>191</th>\n",
       "      <td>1.0</td>\n",
       "      <td>0.359358</td>\n",
       "    </tr>\n",
       "  </tbody>\n",
       "</table>\n",
       "</div>"
      ],
      "text/plain": [
       "     Epoch       IoU\n",
       "95     0.0  0.342671\n",
       "191    1.0  0.359358"
      ]
     },
     "metadata": {},
     "output_type": "display_data"
    },
    {
     "data": {
      "text/html": [
       "<div>\n",
       "<style scoped>\n",
       "    .dataframe tbody tr th:only-of-type {\n",
       "        vertical-align: middle;\n",
       "    }\n",
       "\n",
       "    .dataframe tbody tr th {\n",
       "        vertical-align: top;\n",
       "    }\n",
       "\n",
       "    .dataframe thead th {\n",
       "        text-align: right;\n",
       "    }\n",
       "</style>\n",
       "<table border=\"1\" class=\"dataframe\">\n",
       "  <thead>\n",
       "    <tr style=\"text-align: right;\">\n",
       "      <th></th>\n",
       "      <th>Epoch</th>\n",
       "      <th>EDLoss</th>\n",
       "      <th>RLoss</th>\n",
       "      <th>CoralLoss</th>\n",
       "    </tr>\n",
       "  </thead>\n",
       "  <tbody>\n",
       "    <tr>\n",
       "      <th>0</th>\n",
       "      <td>0.000000</td>\n",
       "      <td>18.457979</td>\n",
       "      <td>7.427947</td>\n",
       "      <td>0.008738</td>\n",
       "    </tr>\n",
       "    <tr>\n",
       "      <th>1</th>\n",
       "      <td>0.010638</td>\n",
       "      <td>13.392401</td>\n",
       "      <td>6.451591</td>\n",
       "      <td>0.010040</td>\n",
       "    </tr>\n",
       "    <tr>\n",
       "      <th>2</th>\n",
       "      <td>0.021277</td>\n",
       "      <td>11.658546</td>\n",
       "      <td>5.172692</td>\n",
       "      <td>0.011389</td>\n",
       "    </tr>\n",
       "    <tr>\n",
       "      <th>3</th>\n",
       "      <td>0.031915</td>\n",
       "      <td>10.475201</td>\n",
       "      <td>4.645678</td>\n",
       "      <td>0.012963</td>\n",
       "    </tr>\n",
       "    <tr>\n",
       "      <th>4</th>\n",
       "      <td>0.042553</td>\n",
       "      <td>9.516891</td>\n",
       "      <td>4.193193</td>\n",
       "      <td>0.012448</td>\n",
       "    </tr>\n",
       "    <tr>\n",
       "      <th>...</th>\n",
       "      <td>...</td>\n",
       "      <td>...</td>\n",
       "      <td>...</td>\n",
       "      <td>...</td>\n",
       "    </tr>\n",
       "    <tr>\n",
       "      <th>186</th>\n",
       "      <td>1.957447</td>\n",
       "      <td>2.730169</td>\n",
       "      <td>1.872182</td>\n",
       "      <td>0.011712</td>\n",
       "    </tr>\n",
       "    <tr>\n",
       "      <th>187</th>\n",
       "      <td>1.968085</td>\n",
       "      <td>2.981172</td>\n",
       "      <td>2.264684</td>\n",
       "      <td>0.007747</td>\n",
       "    </tr>\n",
       "    <tr>\n",
       "      <th>188</th>\n",
       "      <td>1.978723</td>\n",
       "      <td>3.102467</td>\n",
       "      <td>2.430362</td>\n",
       "      <td>0.008196</td>\n",
       "    </tr>\n",
       "    <tr>\n",
       "      <th>189</th>\n",
       "      <td>1.989362</td>\n",
       "      <td>2.941072</td>\n",
       "      <td>2.622808</td>\n",
       "      <td>0.009194</td>\n",
       "    </tr>\n",
       "    <tr>\n",
       "      <th>190</th>\n",
       "      <td>2.000000</td>\n",
       "      <td>4.394746</td>\n",
       "      <td>4.054935</td>\n",
       "      <td>0.008551</td>\n",
       "    </tr>\n",
       "  </tbody>\n",
       "</table>\n",
       "<p>190 rows × 4 columns</p>\n",
       "</div>"
      ],
      "text/plain": [
       "        Epoch     EDLoss     RLoss  CoralLoss\n",
       "0    0.000000  18.457979  7.427947   0.008738\n",
       "1    0.010638  13.392401  6.451591   0.010040\n",
       "2    0.021277  11.658546  5.172692   0.011389\n",
       "3    0.031915  10.475201  4.645678   0.012963\n",
       "4    0.042553   9.516891  4.193193   0.012448\n",
       "..        ...        ...       ...        ...\n",
       "186  1.957447   2.730169  1.872182   0.011712\n",
       "187  1.968085   2.981172  2.264684   0.007747\n",
       "188  1.978723   3.102467  2.430362   0.008196\n",
       "189  1.989362   2.941072  2.622808   0.009194\n",
       "190  2.000000   4.394746  4.054935   0.008551\n",
       "\n",
       "[190 rows x 4 columns]"
      ]
     },
     "metadata": {},
     "output_type": "display_data"
    },
    {
     "data": {
      "image/png": "[encoded data removed]",
      "text/plain": [
       "<Figure size 432x288 with 2 Axes>"
      ]
     },
     "metadata": {
      "needs_background": "light"
     },
     "output_type": "display_data"
    }
   ],
   "source": [
    "trial_name = \"2020_03_19--04_00_31_CORAL_test_TRAIN\"\n",
    "minibatch_df, epoch_df = get_trial_df(trial_name, [\"EDLoss\", \"RLoss\", \"CoralLoss\"], [\"IoU\"])\n",
    "display(epoch_df)\n",
    "display(minibatch_df)\n",
    "plot_coral(minibatch_df)"
   ]
  },
  {
   "cell_type": "code",
   "execution_count": null,
   "metadata": {},
   "outputs": [],
   "source": []
  },
  {
   "cell_type": "code",
   "execution_count": null,
   "metadata": {},
   "outputs": [],
   "source": []
  }
 ],
 "metadata": {
  "kernelspec": {
   "display_name": "Python 3",
   "language": "python",
   "name": "python3"
  },
  "language_info": {
   "codemirror_mode": {
    "name": "ipython",
    "version": 3
   },
   "file_extension": ".py",
   "mimetype": "text/x-python",
   "name": "python",
   "nbconvert_exporter": "python",
   "pygments_lexer": "ipython3",
   "version": "3.7.6"
  }
 },
 "nbformat": 4,
 "nbformat_minor": 4
}
