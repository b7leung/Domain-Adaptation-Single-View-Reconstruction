{
 "cells": [
  {
   "cell_type": "code",
   "execution_count": 2,
   "metadata": {
    "ExecuteTime": {
     "end_time": "2020-03-13T07:17:35.985377Z",
     "start_time": "2020-03-13T07:17:35.956517Z"
    }
   },
   "outputs": [
    {
     "data": {
      "text/html": [
       "<style>.container { width:90% !important; }</style>"
      ],
      "text/plain": [
       "<IPython.core.display.HTML object>"
      ]
     },
     "metadata": {},
     "output_type": "display_data"
    },
    {
     "name": "stdout",
     "output_type": "stream",
     "text": [
      "The autoreload extension is already loaded. To reload it, use:\n",
      "  %reload_ext autoreload\n"
     ]
    }
   ],
   "source": [
    "# jupyter notebooks header --------------------------------------------------------------\n",
    "from IPython.core.display import display, HTML\n",
    "display(HTML(\"<style>.container { width:90% !important; }</style>\"))\n",
    "import numpy as np\n",
    "import sys\n",
    "np.set_printoptions(linewidth=250, suppress=True)\n",
    "np.set_printoptions(threshold=sys.maxsize)\n",
    "\n",
    "%load_ext autoreload\n",
    "%autoreload 2"
   ]
  },
  {
   "cell_type": "code",
   "execution_count": 9,
   "metadata": {
    "ExecuteTime": {
     "end_time": "2020-03-04T03:50:08.272735Z",
     "start_time": "2020-03-04T03:50:08.230361Z"
    }
   },
   "outputs": [],
   "source": [
    "import torch\n",
    "import utils.data_loaders\n",
    "import utils.data_transforms\n",
    "import utils.network_utils\n",
    "from config import cfg\n",
    "from models.encoder import Encoder\n",
    "from models.decoder import Decoder\n",
    "from models.refiner import Refiner\n",
    "from models.merger import Merger\n",
    "from models.classifier import Classifier\n",
    "from matplotlib import pyplot as plt"
   ]
  },
  {
   "cell_type": "code",
   "execution_count": 21,
   "metadata": {
    "ExecuteTime": {
     "end_time": "2020-03-04T03:52:09.829879Z",
     "start_time": "2020-03-04T03:52:06.344718Z"
    }
   },
   "outputs": [
    {
     "name": "stdout",
     "output_type": "stream",
     "text": [
      "[INFO] 2020-03-03 19:52:06.408364 Loading cache of Taxonomy[ID=02933112, Name=cabinet, Partition=train]\n",
      "[INFO] 2020-03-03 19:52:06.425436 Complete collecting files of the dataset. Total files: 1100.\n"
     ]
    }
   ],
   "source": [
    "\n",
    "\n",
    "IMG_SIZE = cfg.CONST.IMG_H, cfg.CONST.IMG_W\n",
    "CROP_SIZE = cfg.CONST.CROP_IMG_H, cfg.CONST.CROP_IMG_W\n",
    "train_transforms = utils.data_transforms.Compose([\n",
    "    utils.data_transforms.RandomCrop(IMG_SIZE, CROP_SIZE),\n",
    "    #utils.data_transforms.RandomBackground(cfg.TRAIN.RANDOM_BG_COLOR_RANGE),\n",
    "    utils.data_transforms.ColorJitter(cfg.TRAIN.BRIGHTNESS, cfg.TRAIN.CONTRAST, cfg.TRAIN.SATURATION),\n",
    "    utils.data_transforms.RandomNoise(cfg.TRAIN.NOISE_STD),\n",
    "    utils.data_transforms.Normalize(mean=cfg.DATASET.MEAN, std=cfg.DATASET.STD),\n",
    "    utils.data_transforms.RandomFlip(),\n",
    "    utils.data_transforms.RandomPermuteRGB(),\n",
    "    utils.data_transforms.ToTensor(),\n",
    "])\n",
    "\n",
    "#cfg.DATASET.CLASSES_TO_USE = None\n",
    "cfg.DATASET.CLASSES_TO_USE = ['cabinet']\n",
    "cfg.CONST.BATCH_SIZE = 8\n",
    "cfg.CONST.N_VIEWS_RENDERING = 1\n",
    "train_dataset_loader = utils.data_loaders.DATASET_LOADER_MAPPING[cfg.DATASET.TRAIN_DATASET](cfg)\n",
    "\n",
    "\n",
    "train_data_loader = torch.utils.data.DataLoader(\n",
    "    dataset=train_dataset_loader.get_dataset(utils.data_loaders.DatasetType.TRAIN,\n",
    "                                             cfg.CONST.N_VIEWS_RENDERING, train_transforms, classes_filter = cfg.DATASET.CLASSES_TO_USE),\n",
    "    batch_size=cfg.CONST.BATCH_SIZE,\n",
    "    num_workers=cfg.TRAIN.NUM_WORKER,\n",
    "    pin_memory=True,\n",
    "    shuffle=True,\n",
    "    drop_last=True)\n",
    "\n",
    "num_classes = 13\n",
    "encoder = Encoder(cfg)\n",
    "decoder = Decoder(cfg)\n",
    "refiner = Refiner(cfg)\n",
    "merger = Merger(cfg)\n",
    "classifier = Classifier(cfg, num_classes)\n",
    "\n"
   ]
  },
  {
   "cell_type": "code",
   "execution_count": null,
   "metadata": {},
   "outputs": [],
   "source": [
    "print(utils.network_utils.count_parameters(encoder))\n",
    "print(utils.network_utils.count_parameters(decoder))\n",
    "print(utils.network_utils.count_parameters(refiner))\n",
    "print(utils.network_utils.count_parameters(classifier))"
   ]
  },
  {
   "cell_type": "code",
   "execution_count": 23,
   "metadata": {
    "ExecuteTime": {
     "end_time": "2020-03-04T03:52:18.048709Z",
     "start_time": "2020-03-04T03:52:17.197413Z"
    }
   },
   "outputs": [
    {
     "name": "stderr",
     "output_type": "stream",
     "text": [
      "Clipping input data to the valid range for imshow with RGB data ([0..1] for floats or [0..255] for integers).\n"
     ]
    },
    {
     "name": "stdout",
     "output_type": "stream",
     "text": [
      "['02933112', '02933112', '02933112', '02933112', '02933112', '02933112', '02933112', '02933112']\n",
      "tensor([2, 2, 2, 2, 2, 2, 2, 2])\n",
      "tensor([[2, 2, 2, 2],\n",
      "        [2, 2, 2, 2],\n",
      "        [2, 2, 2, 2],\n",
      "        [2, 2, 2, 2],\n",
      "        [2, 2, 2, 2],\n",
      "        [2, 2, 2, 2],\n",
      "        [2, 2, 2, 2],\n",
      "        [2, 2, 2, 2]])\n",
      "torch.Size([8, 4])\n",
      "(224, 224, 3)\n"
     ]
    },
    {
     "data": {
      "image/png": "[encoded data removed]",
      "text/plain": [
       "<Figure size 432x288 with 1 Axes>"
      ]
     },
     "metadata": {
      "needs_background": "light"
     },
     "output_type": "display_data"
    }
   ],
   "source": [
    "for (taxonomy_names, sample_names, rendering_images,\n",
    "                        ground_truth_volumes, ground_truth_class_labels) in train_data_loader:\n",
    "    print(taxonomy_names) \n",
    "    print(ground_truth_class_labels)\n",
    "    ground_truth_class_labels = ground_truth_class_labels.repeat(4,1).T\n",
    "    print(ground_truth_class_labels)\n",
    "    print(ground_truth_class_labels.shape)\n",
    "    test_img = rendering_images[0][0].cpu().numpy()\n",
    "    test_img = np.transpose(test_img, (1,2,0))\n",
    "    plt.imshow(test_img)\n",
    "    print(test_img.shape)\n",
    "    break"
   ]
  },
  {
   "cell_type": "code",
   "execution_count": null,
   "metadata": {},
   "outputs": [],
   "source": [
    "\n",
    "\n",
    "encoder.eval()\n",
    "decoder.eval()\n",
    "refiner.eval()\n",
    "merger.eval()\n",
    "classifier.eval()\n",
    "ce_loss = torch.nn.CrossEntropyLoss() # for classification\n",
    "\n",
    "gt_labels = None\n",
    "class_pred = None\n",
    "\n",
    "for (taxonomy_names, sample_names, rendering_images,\n",
    "        ground_truth_volumes, ground_truth_class_labels) in train_data_loader:\n",
    "    \n",
    "    with torch.no_grad():\n",
    "        image_features = encoder(rendering_images)\n",
    "        class_predictions = classifier(image_features)\n",
    "        class_predictions = class_predictions.reshape(-1,num_classes)\n",
    "        ground_truth_class_labels = ground_truth_class_labels.repeat(cfg.CONST.N_VIEWS_RENDERING,1).T\n",
    "        ground_truth_class_labels = ground_truth_class_labels.reshape(-1)\n",
    "        classification_loss = ce_loss(class_predictions, ground_truth_class_labels) \n",
    "        class_pred = class_predictions\n",
    "        gt_labels = ground_truth_class_labels\n",
    "    \n",
    "    break"
   ]
  },
  {
   "cell_type": "code",
   "execution_count": null,
   "metadata": {},
   "outputs": [],
   "source": [
    "accuracy = (torch.argmax(class_pred, 1) == torch.argmax(class_pred, 1)).sum() / gt_labels.shape[0]\n",
    "accuracy = (gt_labels == torch.argmax(class_pred, 1)).sum() / gt_labels.shape[0]\n",
    "print(accuracy)"
   ]
  },
  {
   "cell_type": "code",
   "execution_count": null,
   "metadata": {},
   "outputs": [],
   "source": []
  },
  {
   "cell_type": "code",
   "execution_count": null,
   "metadata": {},
   "outputs": [],
   "source": []
  },
  {
   "cell_type": "code",
   "execution_count": null,
   "metadata": {},
   "outputs": [],
   "source": []
  },
  {
   "cell_type": "code",
   "execution_count": null,
   "metadata": {},
   "outputs": [],
   "source": []
  },
  {
   "cell_type": "code",
   "execution_count": null,
   "metadata": {},
   "outputs": [],
   "source": []
  }
 ],
 "metadata": {
  "kernelspec": {
   "display_name": "Python 3",
   "language": "python",
   "name": "python3"
  },
  "language_info": {
   "codemirror_mode": {
    "name": "ipython",
    "version": 3
   },
   "file_extension": ".py",
   "mimetype": "text/x-python",
   "name": "python",
   "nbconvert_exporter": "python",
   "pygments_lexer": "ipython3",
   "version": "3.7.6"
  }
 },
 "nbformat": 4,
 "nbformat_minor": 4
}
